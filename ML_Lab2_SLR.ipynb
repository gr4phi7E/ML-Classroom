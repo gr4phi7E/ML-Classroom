{
 "cells": [
  {
   "cell_type": "markdown",
   "id": "cf1bd456-4374-4886-8447-9958506e344a",
   "metadata": {},
   "source": [
    "# SLR example on Predicting Salary using Salary_data Dataset\n",
    "### Srimanta Ghosh(E1773U23013)"
   ]
  },
  {
   "cell_type": "markdown",
   "id": "96db7ef5-376d-43cd-9ef3-6577a4591942",
   "metadata": {},
   "source": [
    "##### Data Overview\n",
    "###### This section provides an initial glimpse into the dataset by printing the first few rows. It helps understand the structure of the dataset, including column names and sample data points."
   ]
  },
  {
   "cell_type": "code",
   "execution_count": 1,
   "id": "15018889-08ac-42a2-a4e8-c062f7bd3b79",
   "metadata": {},
   "outputs": [
    {
     "data": {
      "text/html": [
       "<div>\n",
       "<style scoped>\n",
       "    .dataframe tbody tr th:only-of-type {\n",
       "        vertical-align: middle;\n",
       "    }\n",
       "\n",
       "    .dataframe tbody tr th {\n",
       "        vertical-align: top;\n",
       "    }\n",
       "\n",
       "    .dataframe thead th {\n",
       "        text-align: right;\n",
       "    }\n",
       "</style>\n",
       "<table border=\"1\" class=\"dataframe\">\n",
       "  <thead>\n",
       "    <tr style=\"text-align: right;\">\n",
       "      <th></th>\n",
       "      <th>YearsExperience</th>\n",
       "      <th>Salary</th>\n",
       "    </tr>\n",
       "  </thead>\n",
       "  <tbody>\n",
       "    <tr>\n",
       "      <th>0</th>\n",
       "      <td>1.1</td>\n",
       "      <td>39343.0</td>\n",
       "    </tr>\n",
       "    <tr>\n",
       "      <th>1</th>\n",
       "      <td>1.3</td>\n",
       "      <td>46205.0</td>\n",
       "    </tr>\n",
       "    <tr>\n",
       "      <th>2</th>\n",
       "      <td>1.5</td>\n",
       "      <td>37731.0</td>\n",
       "    </tr>\n",
       "    <tr>\n",
       "      <th>3</th>\n",
       "      <td>2.0</td>\n",
       "      <td>43525.0</td>\n",
       "    </tr>\n",
       "    <tr>\n",
       "      <th>4</th>\n",
       "      <td>2.2</td>\n",
       "      <td>39891.0</td>\n",
       "    </tr>\n",
       "    <tr>\n",
       "      <th>5</th>\n",
       "      <td>2.9</td>\n",
       "      <td>56642.0</td>\n",
       "    </tr>\n",
       "    <tr>\n",
       "      <th>6</th>\n",
       "      <td>3.0</td>\n",
       "      <td>60150.0</td>\n",
       "    </tr>\n",
       "    <tr>\n",
       "      <th>7</th>\n",
       "      <td>3.2</td>\n",
       "      <td>54445.0</td>\n",
       "    </tr>\n",
       "    <tr>\n",
       "      <th>8</th>\n",
       "      <td>3.2</td>\n",
       "      <td>64445.0</td>\n",
       "    </tr>\n",
       "    <tr>\n",
       "      <th>9</th>\n",
       "      <td>3.7</td>\n",
       "      <td>57189.0</td>\n",
       "    </tr>\n",
       "    <tr>\n",
       "      <th>10</th>\n",
       "      <td>3.9</td>\n",
       "      <td>63218.0</td>\n",
       "    </tr>\n",
       "    <tr>\n",
       "      <th>11</th>\n",
       "      <td>4.0</td>\n",
       "      <td>55794.0</td>\n",
       "    </tr>\n",
       "    <tr>\n",
       "      <th>12</th>\n",
       "      <td>4.0</td>\n",
       "      <td>56957.0</td>\n",
       "    </tr>\n",
       "    <tr>\n",
       "      <th>13</th>\n",
       "      <td>4.1</td>\n",
       "      <td>57081.0</td>\n",
       "    </tr>\n",
       "    <tr>\n",
       "      <th>14</th>\n",
       "      <td>4.5</td>\n",
       "      <td>61111.0</td>\n",
       "    </tr>\n",
       "    <tr>\n",
       "      <th>15</th>\n",
       "      <td>4.9</td>\n",
       "      <td>67938.0</td>\n",
       "    </tr>\n",
       "    <tr>\n",
       "      <th>16</th>\n",
       "      <td>5.1</td>\n",
       "      <td>66029.0</td>\n",
       "    </tr>\n",
       "    <tr>\n",
       "      <th>17</th>\n",
       "      <td>5.3</td>\n",
       "      <td>83088.0</td>\n",
       "    </tr>\n",
       "    <tr>\n",
       "      <th>18</th>\n",
       "      <td>5.9</td>\n",
       "      <td>81363.0</td>\n",
       "    </tr>\n",
       "    <tr>\n",
       "      <th>19</th>\n",
       "      <td>6.0</td>\n",
       "      <td>93940.0</td>\n",
       "    </tr>\n",
       "    <tr>\n",
       "      <th>20</th>\n",
       "      <td>6.8</td>\n",
       "      <td>91738.0</td>\n",
       "    </tr>\n",
       "    <tr>\n",
       "      <th>21</th>\n",
       "      <td>7.1</td>\n",
       "      <td>98273.0</td>\n",
       "    </tr>\n",
       "    <tr>\n",
       "      <th>22</th>\n",
       "      <td>7.9</td>\n",
       "      <td>101302.0</td>\n",
       "    </tr>\n",
       "    <tr>\n",
       "      <th>23</th>\n",
       "      <td>8.2</td>\n",
       "      <td>113812.0</td>\n",
       "    </tr>\n",
       "    <tr>\n",
       "      <th>24</th>\n",
       "      <td>8.7</td>\n",
       "      <td>109431.0</td>\n",
       "    </tr>\n",
       "    <tr>\n",
       "      <th>25</th>\n",
       "      <td>9.0</td>\n",
       "      <td>105582.0</td>\n",
       "    </tr>\n",
       "    <tr>\n",
       "      <th>26</th>\n",
       "      <td>9.5</td>\n",
       "      <td>116969.0</td>\n",
       "    </tr>\n",
       "    <tr>\n",
       "      <th>27</th>\n",
       "      <td>9.6</td>\n",
       "      <td>112635.0</td>\n",
       "    </tr>\n",
       "    <tr>\n",
       "      <th>28</th>\n",
       "      <td>10.3</td>\n",
       "      <td>122391.0</td>\n",
       "    </tr>\n",
       "    <tr>\n",
       "      <th>29</th>\n",
       "      <td>10.5</td>\n",
       "      <td>121872.0</td>\n",
       "    </tr>\n",
       "  </tbody>\n",
       "</table>\n",
       "</div>"
      ],
      "text/plain": [
       "    YearsExperience    Salary\n",
       "0               1.1   39343.0\n",
       "1               1.3   46205.0\n",
       "2               1.5   37731.0\n",
       "3               2.0   43525.0\n",
       "4               2.2   39891.0\n",
       "5               2.9   56642.0\n",
       "6               3.0   60150.0\n",
       "7               3.2   54445.0\n",
       "8               3.2   64445.0\n",
       "9               3.7   57189.0\n",
       "10              3.9   63218.0\n",
       "11              4.0   55794.0\n",
       "12              4.0   56957.0\n",
       "13              4.1   57081.0\n",
       "14              4.5   61111.0\n",
       "15              4.9   67938.0\n",
       "16              5.1   66029.0\n",
       "17              5.3   83088.0\n",
       "18              5.9   81363.0\n",
       "19              6.0   93940.0\n",
       "20              6.8   91738.0\n",
       "21              7.1   98273.0\n",
       "22              7.9  101302.0\n",
       "23              8.2  113812.0\n",
       "24              8.7  109431.0\n",
       "25              9.0  105582.0\n",
       "26              9.5  116969.0\n",
       "27              9.6  112635.0\n",
       "28             10.3  122391.0\n",
       "29             10.5  121872.0"
      ]
     },
     "execution_count": 1,
     "metadata": {},
     "output_type": "execute_result"
    }
   ],
   "source": [
    "import pandas as pd\n",
    "import numpy as np\n",
    "import seaborn as sns\n",
    "Dataset = pd.read_csv(r\"C:\\Users\\gh22s\\AppData\\Local\\Programs\\Python\\Python312\\Scripts\\notebooks\\Salary_Data.csv\")\n",
    "Dataset"
   ]
  },
  {
   "cell_type": "markdown",
   "id": "3da4088f-b289-4aa7-9607-fb495d79d296",
   "metadata": {},
   "source": [
    "##### Categorical & Numerical Features\n",
    "###### Here, the code distinguishes between categorical and numerical features in the dataset. Categorical features represent qualitative data, such as text or categories, while numerical features represent quantitative data, such as integers or floats."
   ]
  },
  {
   "cell_type": "code",
   "execution_count": 2,
   "id": "6dc93e03-3bed-48b0-a421-a7921e1e2499",
   "metadata": {},
   "outputs": [
    {
     "name": "stdout",
     "output_type": "stream",
     "text": [
      "Numerical columns: Index(['YearsExperience', 'Salary'], dtype='object')\n",
      "Categorical columns: Index([], dtype='object')\n"
     ]
    }
   ],
   "source": [
    "df = pd.DataFrame(Dataset)\n",
    "column_types = df.dtypes\n",
    "\n",
    "numerical_columns = column_types[column_types != 'object'].index\n",
    "categorical_columns = column_types[column_types == 'object'].index\n",
    "\n",
    "print(\"Numerical columns:\", numerical_columns)\n",
    "print(\"Categorical columns:\", categorical_columns)"
   ]
  },
  {
   "cell_type": "markdown",
   "id": "fc7d7d78-317d-4d7b-bf37-c3c472813092",
   "metadata": {},
   "source": [
    "##### Null Value Check\n",
    "###### This section checks for missing values in the dataset. It's crucial to identify any missing data as it can impact the analysis and modeling process."
   ]
  },
  {
   "cell_type": "code",
   "execution_count": 3,
   "id": "166fb0cc-5bc1-4b7a-af2e-13b089dad89b",
   "metadata": {},
   "outputs": [
    {
     "data": {
      "text/plain": [
       "YearsExperience    0\n",
       "Salary             0\n",
       "dtype: int64"
      ]
     },
     "execution_count": 3,
     "metadata": {},
     "output_type": "execute_result"
    }
   ],
   "source": [
    "Dataset.isna().sum()"
   ]
  },
  {
   "cell_type": "markdown",
   "id": "42f46fae-4f4b-4108-a161-1245f1ebe6b7",
   "metadata": {},
   "source": [
    "##### Dependent Feature (Salary)\n",
    "###### Similar to the previous section, this part identifies and describes the dependent feature, which is 'Salary' in this case. The dependent feature is the variable that we want to predict or explain based on the independent variable."
   ]
  },
  {
   "cell_type": "code",
   "execution_count": 4,
   "id": "8fe5b6f2-99ed-411c-b1fd-824527d0c730",
   "metadata": {},
   "outputs": [
    {
     "data": {
      "text/html": [
       "<div>\n",
       "<style scoped>\n",
       "    .dataframe tbody tr th:only-of-type {\n",
       "        vertical-align: middle;\n",
       "    }\n",
       "\n",
       "    .dataframe tbody tr th {\n",
       "        vertical-align: top;\n",
       "    }\n",
       "\n",
       "    .dataframe thead th {\n",
       "        text-align: right;\n",
       "    }\n",
       "</style>\n",
       "<table border=\"1\" class=\"dataframe\">\n",
       "  <thead>\n",
       "    <tr style=\"text-align: right;\">\n",
       "      <th></th>\n",
       "      <th>Salary</th>\n",
       "    </tr>\n",
       "  </thead>\n",
       "  <tbody>\n",
       "    <tr>\n",
       "      <th>0</th>\n",
       "      <td>39343.0</td>\n",
       "    </tr>\n",
       "    <tr>\n",
       "      <th>1</th>\n",
       "      <td>46205.0</td>\n",
       "    </tr>\n",
       "    <tr>\n",
       "      <th>2</th>\n",
       "      <td>37731.0</td>\n",
       "    </tr>\n",
       "    <tr>\n",
       "      <th>3</th>\n",
       "      <td>43525.0</td>\n",
       "    </tr>\n",
       "    <tr>\n",
       "      <th>4</th>\n",
       "      <td>39891.0</td>\n",
       "    </tr>\n",
       "  </tbody>\n",
       "</table>\n",
       "</div>"
      ],
      "text/plain": [
       "    Salary\n",
       "0  39343.0\n",
       "1  46205.0\n",
       "2  37731.0\n",
       "3  43525.0\n",
       "4  39891.0"
      ]
     },
     "execution_count": 4,
     "metadata": {},
     "output_type": "execute_result"
    }
   ],
   "source": [
    "Y = Dataset[['Salary']]\n",
    "Y.head()"
   ]
  },
  {
   "cell_type": "markdown",
   "id": "f42eed06-1926-4186-b494-baba3a542772",
   "metadata": {},
   "source": [
    "##### Independent Feature (Years of Experience)\n",
    "###### This part specifically identifies and describes the independent feature, which is 'YearsExperience' in this case. The independent feature is the variable that is used to predict or explain changes in the dependent variable.."
   ]
  },
  {
   "cell_type": "code",
   "execution_count": 5,
   "id": "ee0827d8-1cd4-4dcd-bb94-de0980045ba6",
   "metadata": {},
   "outputs": [
    {
     "data": {
      "text/html": [
       "<div>\n",
       "<style scoped>\n",
       "    .dataframe tbody tr th:only-of-type {\n",
       "        vertical-align: middle;\n",
       "    }\n",
       "\n",
       "    .dataframe tbody tr th {\n",
       "        vertical-align: top;\n",
       "    }\n",
       "\n",
       "    .dataframe thead th {\n",
       "        text-align: right;\n",
       "    }\n",
       "</style>\n",
       "<table border=\"1\" class=\"dataframe\">\n",
       "  <thead>\n",
       "    <tr style=\"text-align: right;\">\n",
       "      <th></th>\n",
       "      <th>YearsExperience</th>\n",
       "    </tr>\n",
       "  </thead>\n",
       "  <tbody>\n",
       "    <tr>\n",
       "      <th>0</th>\n",
       "      <td>1.1</td>\n",
       "    </tr>\n",
       "    <tr>\n",
       "      <th>1</th>\n",
       "      <td>1.3</td>\n",
       "    </tr>\n",
       "    <tr>\n",
       "      <th>2</th>\n",
       "      <td>1.5</td>\n",
       "    </tr>\n",
       "    <tr>\n",
       "      <th>3</th>\n",
       "      <td>2.0</td>\n",
       "    </tr>\n",
       "    <tr>\n",
       "      <th>4</th>\n",
       "      <td>2.2</td>\n",
       "    </tr>\n",
       "  </tbody>\n",
       "</table>\n",
       "</div>"
      ],
      "text/plain": [
       "   YearsExperience\n",
       "0              1.1\n",
       "1              1.3\n",
       "2              1.5\n",
       "3              2.0\n",
       "4              2.2"
      ]
     },
     "execution_count": 5,
     "metadata": {},
     "output_type": "execute_result"
    }
   ],
   "source": [
    "X = Dataset[['YearsExperience']]\n",
    "X.head()"
   ]
  },
  {
   "cell_type": "markdown",
   "id": "80caf9ef-3f35-4208-b9f8-23d151937318",
   "metadata": {},
   "source": [
    "##### Data Visualization\n",
    "###### This section creates visualizations to explore relationships between variables. A pairplot displays pairwise relationships between variables, while a heatmap of the correlation matrix provides insight into the strength and direction of relationships between numerical features.."
   ]
  },
  {
   "cell_type": "code",
   "execution_count": 6,
   "id": "baeb7697-3d3b-4e69-a723-c598b0e9f43a",
   "metadata": {},
   "outputs": [
    {
     "data": {
      "image/png": "[encoded data removed]",
      "text/plain": [
       "<Figure size 500x500 with 6 Axes>"
      ]
     },
     "metadata": {},
     "output_type": "display_data"
    }
   ],
   "source": [
    "sns.pairplot(Dataset);"
   ]
  },
  {
   "cell_type": "code",
   "execution_count": 7,
   "id": "a7548193-5540-4e21-bb73-3003b18c1552",
   "metadata": {},
   "outputs": [
    {
     "data": {
      "image/png": "[encoded data removed]",
      "text/plain": [
       "<Figure size 640x480 with 2 Axes>"
      ]
     },
     "metadata": {},
     "output_type": "display_data"
    }
   ],
   "source": [
    "sns.heatmap(Dataset.corr(), annot=True);"
   ]
  },
  {
   "cell_type": "markdown",
   "id": "73173684-5770-44f3-b599-35d048a22d33",
   "metadata": {},
   "source": [
    "##### Data Summery\n",
    "###### This part provides summary statistics for numerical features in the dataset, including count, mean, standard deviation, minimum, and maximum values. It gives an overview of the distribution and range of each numerical variable."
   ]
  },
  {
   "cell_type": "code",
   "execution_count": 8,
   "id": "08fb985f-20f3-4940-8169-ad4c52e08789",
   "metadata": {},
   "outputs": [
    {
     "data": {
      "text/html": [
       "<div>\n",
       "<style scoped>\n",
       "    .dataframe tbody tr th:only-of-type {\n",
       "        vertical-align: middle;\n",
       "    }\n",
       "\n",
       "    .dataframe tbody tr th {\n",
       "        vertical-align: top;\n",
       "    }\n",
       "\n",
       "    .dataframe thead th {\n",
       "        text-align: right;\n",
       "    }\n",
       "</style>\n",
       "<table border=\"1\" class=\"dataframe\">\n",
       "  <thead>\n",
       "    <tr style=\"text-align: right;\">\n",
       "      <th></th>\n",
       "      <th>YearsExperience</th>\n",
       "      <th>Salary</th>\n",
       "    </tr>\n",
       "  </thead>\n",
       "  <tbody>\n",
       "    <tr>\n",
       "      <th>count</th>\n",
       "      <td>30.000000</td>\n",
       "      <td>30.000000</td>\n",
       "    </tr>\n",
       "    <tr>\n",
       "      <th>mean</th>\n",
       "      <td>5.313333</td>\n",
       "      <td>76003.000000</td>\n",
       "    </tr>\n",
       "    <tr>\n",
       "      <th>std</th>\n",
       "      <td>2.837888</td>\n",
       "      <td>27414.429785</td>\n",
       "    </tr>\n",
       "    <tr>\n",
       "      <th>min</th>\n",
       "      <td>1.100000</td>\n",
       "      <td>37731.000000</td>\n",
       "    </tr>\n",
       "    <tr>\n",
       "      <th>25%</th>\n",
       "      <td>3.200000</td>\n",
       "      <td>56720.750000</td>\n",
       "    </tr>\n",
       "    <tr>\n",
       "      <th>50%</th>\n",
       "      <td>4.700000</td>\n",
       "      <td>65237.000000</td>\n",
       "    </tr>\n",
       "    <tr>\n",
       "      <th>75%</th>\n",
       "      <td>7.700000</td>\n",
       "      <td>100544.750000</td>\n",
       "    </tr>\n",
       "    <tr>\n",
       "      <th>max</th>\n",
       "      <td>10.500000</td>\n",
       "      <td>122391.000000</td>\n",
       "    </tr>\n",
       "  </tbody>\n",
       "</table>\n",
       "</div>"
      ],
      "text/plain": [
       "       YearsExperience         Salary\n",
       "count        30.000000      30.000000\n",
       "mean          5.313333   76003.000000\n",
       "std           2.837888   27414.429785\n",
       "min           1.100000   37731.000000\n",
       "25%           3.200000   56720.750000\n",
       "50%           4.700000   65237.000000\n",
       "75%           7.700000  100544.750000\n",
       "max          10.500000  122391.000000"
      ]
     },
     "execution_count": 8,
     "metadata": {},
     "output_type": "execute_result"
    }
   ],
   "source": [
    "Dataset.describe()"
   ]
  },
  {
   "cell_type": "markdown",
   "id": "f8cad3be-1a96-4f49-8b5b-1637402ee0d4",
   "metadata": {},
   "source": [
    "##### Training Dataset\n",
    "###### Here, the dataset is split into training and testing sets. This step is crucial for evaluating the performance of the model on unseen data and helps prevent overfitting."
   ]
  },
  {
   "cell_type": "code",
   "execution_count": 9,
   "id": "ec374a0b-1c98-4aff-8760-22643d61e330",
   "metadata": {},
   "outputs": [],
   "source": [
    "df.insert(0, 'beta_0', 1)\n",
    "#train_ratio = 0.8\n",
    "indices = np.arange(len(df))\n",
    "\n",
    "# Shuffle indices array\n",
    "np.random.shuffle(indices)\n",
    "\n",
    "# Define the train ratio\n",
    "train_ratio = 0.8\n",
    "\n",
    "# Calculate the train size\n",
    "train_size = int(train_ratio * len(df))\n",
    "\n",
    "# Split indices into train and test indices\n",
    "train_indices = indices[:train_size]\n",
    "test_indices = indices[train_size:]\n",
    "\n",
    "# Split the dataframe using shuffled indices\n",
    "train_data = df.iloc[train_indices]\n",
    "test_data = df.iloc[test_indices]\n",
    "\n",
    "# Separate features and target variables for train and test sets\n",
    "X_train, y_train = train_data.drop(columns=['Salary']), train_data['Salary']\n",
    "X_test, y_test = test_data.drop(columns=['Salary']), test_data['Salary']"
   ]
  },
  {
   "cell_type": "markdown",
   "id": "916d65a7-615d-4f67-9f97-abae3bbe441e",
   "metadata": {},
   "source": [
    "##### Design Matrix\n",
    "###### The design matrix represents the independent variables used in the regression model. It is a matrix of predictor variables, often denoted as 'X'."
   ]
  },
  {
   "cell_type": "code",
   "execution_count": 10,
   "id": "95239b0d-79e3-4ef9-b9f3-0f4bbf6ab0aa",
   "metadata": {},
   "outputs": [
    {
     "name": "stdout",
     "output_type": "stream",
     "text": [
      "[[ 1.   3.2]\n",
      " [ 1.   6.8]\n",
      " [ 1.   2.2]\n",
      " [ 1.   9.6]\n",
      " [ 1.   2.9]\n",
      " [ 1.   5.9]\n",
      " [ 1.   9. ]\n",
      " [ 1.  10.3]\n",
      " [ 1.   4.5]\n",
      " [ 1.   9.5]\n",
      " [ 1.   4.9]\n",
      " [ 1.   3.7]\n",
      " [ 1.   1.3]\n",
      " [ 1.   4. ]\n",
      " [ 1.   7.1]\n",
      " [ 1.   8.2]\n",
      " [ 1.   2. ]\n",
      " [ 1.   7.9]\n",
      " [ 1.   3.9]\n",
      " [ 1.   5.1]\n",
      " [ 1.   1.5]\n",
      " [ 1.   4. ]\n",
      " [ 1.   8.7]\n",
      " [ 1.   1.1]]\n"
     ]
    }
   ],
   "source": [
    "Design_matrix = X_train.values\n",
    "print(Design_matrix)"
   ]
  },
  {
   "cell_type": "markdown",
   "id": "2ab17a23-67d9-484d-913c-b9db70058aa6",
   "metadata": {},
   "source": [
    "##### Estimating β\n",
    "\n",
    "###### Estimate the coefficients β of the regression model to quantify the relationship between independent feature and the dependent variable (Salary). These coefficients indicate the strength and direction of the influence of independent variable on the Salary.\n",
    "\n",
    "$$ \\mathbf{\\hat{\\beta}} = (\\mathbf{X}^T \\mathbf{X})^{-1} \\mathbf{X}^T \\mathbf{y} $$"
   ]
  },
  {
   "cell_type": "code",
   "execution_count": 11,
   "id": "470c83fa-5e3e-4994-806c-86c436d706ff",
   "metadata": {},
   "outputs": [
    {
     "data": {
      "text/html": [
       "<div>\n",
       "<style scoped>\n",
       "    .dataframe tbody tr th:only-of-type {\n",
       "        vertical-align: middle;\n",
       "    }\n",
       "\n",
       "    .dataframe tbody tr th {\n",
       "        vertical-align: top;\n",
       "    }\n",
       "\n",
       "    .dataframe thead th {\n",
       "        text-align: right;\n",
       "    }\n",
       "</style>\n",
       "<table border=\"1\" class=\"dataframe\">\n",
       "  <thead>\n",
       "    <tr style=\"text-align: right;\">\n",
       "      <th></th>\n",
       "      <th>$\\hat{\\beta}$</th>\n",
       "    </tr>\n",
       "  </thead>\n",
       "  <tbody>\n",
       "    <tr>\n",
       "      <th>0</th>\n",
       "      <td>24012.657015</td>\n",
       "    </tr>\n",
       "    <tr>\n",
       "      <th>1</th>\n",
       "      <td>9608.878489</td>\n",
       "    </tr>\n",
       "  </tbody>\n",
       "</table>\n",
       "</div>"
      ],
      "text/plain": [
       "   $\\hat{\\beta}$\n",
       "0   24012.657015\n",
       "1    9608.878489"
      ]
     },
     "execution_count": 11,
     "metadata": {},
     "output_type": "execute_result"
    }
   ],
   "source": [
    "x = Design_matrix\n",
    "beta_cap = np.linalg.inv(x.T @ x) @ x.T @ y_train\n",
    "dfbeta = pd.DataFrame({\"$\\\\hat{\\\\beta}$\":beta_cap}) \n",
    "dfbeta"
   ]
  },
  {
   "cell_type": "markdown",
   "id": "8df099f5-4283-4acb-ab9e-1da930de4799",
   "metadata": {},
   "source": [
    "##### Projection Matrix\n",
    "###### The projection matrix calculates the projection of the target variable onto the space spanned by the independent variables. \n",
    "$$ \\mathbf{P_X} = \\mathbf{X} (\\mathbf{X}^T \\mathbf{X})^{-1} \\mathbf{X}^T $$"
   ]
  },
  {
   "cell_type": "code",
   "execution_count": 12,
   "id": "18de39dd-cf5e-403d-93f1-167b27094139",
   "metadata": {},
   "outputs": [
    {
     "name": "stdout",
     "output_type": "stream",
     "text": [
      "[[ 0.06438475  0.02551659  0.07518146 -0.00471421  0.06762376  0.03523363\n",
      "   0.00176382 -0.01227191  0.05034902 -0.00363454  0.04603034  0.05898639\n",
      "   0.0848985   0.05574738  0.02227757  0.01040119  0.0773408   0.0136402\n",
      "   0.05682705  0.043871    0.08273916  0.05574738  0.00500283  0.08705784]\n",
      " [ 0.02551659  0.05314762  0.0178413   0.07463842  0.023214    0.04623986\n",
      "   0.07003325  0.08001112  0.03549446  0.07387089  0.03856457  0.02935423\n",
      "   0.01093354  0.03165681  0.0554502   0.06389302  0.01630624  0.06159043\n",
      "   0.03088929  0.04009963  0.0124686   0.03165681  0.06773066  0.00939848]\n",
      " [ 0.07518146  0.0178413   0.09110928 -0.0267566   0.07995981  0.03217634\n",
      "  -0.01719991 -0.03790608  0.05447529 -0.02516382  0.04810416  0.06721755\n",
      "   0.10544432  0.0624392   0.01306295 -0.00445765  0.09429485  0.00032069\n",
      "   0.06403198  0.0449186   0.10225876  0.0624392  -0.01242156  0.10862989]\n",
      " [-0.00471421  0.07463842 -0.0267566   0.13635713 -0.01132693  0.05480026\n",
      "   0.12313169  0.1517868   0.02394091  0.13415289  0.03275787  0.00630699\n",
      "  -0.04659476  0.01291971  0.08125114  0.10549777 -0.03116508  0.09888505\n",
      "   0.01071547  0.03716634 -0.04218628  0.01291971  0.11651897 -0.05100324]\n",
      " [ 0.06762376  0.023214    0.07995981 -0.01132693  0.07132457  0.03431644\n",
      "  -0.0039253  -0.01996216  0.0515869  -0.01009332  0.04665248  0.06145574\n",
      "   0.09106225  0.05775493  0.01951319  0.00594354  0.08242702  0.00964435\n",
      "   0.05898853  0.04418528  0.08859504  0.05775493 -0.00022449  0.09352946]\n",
      " [ 0.03523363  0.04623986  0.03217634  0.05480026  0.03431644  0.0434883\n",
      "   0.05296589  0.05694036  0.0392081   0.05449453  0.04043101  0.03676227\n",
      "   0.02942478  0.03767946  0.04715704  0.05052006  0.03156488  0.04960287\n",
      "   0.03737373  0.04104247  0.03003624  0.03767946  0.0520487   0.02881332]\n",
      " [ 0.00176382  0.07003325 -0.01719991  0.12313169 -0.0039253   0.05296589\n",
      "   0.11175345  0.1364063   0.02641667  0.12123531  0.03400216  0.01124568\n",
      "  -0.03426727  0.0169348   0.07572236  0.09658247 -0.02099266  0.09089335\n",
      "   0.01503843  0.03779491 -0.03047452  0.0169348   0.10606433 -0.03806001]\n",
      " [-0.01227191  0.08001112 -0.03790608  0.1517868  -0.01996216  0.05694036\n",
      "   0.1364063   0.16973072  0.02105252  0.14922339  0.03130619  0.00054518\n",
      "  -0.06097684  0.00823543  0.08770137  0.11589896 -0.04303291  0.10820871\n",
      "   0.00567202  0.03643302 -0.05585     0.00823543  0.12871605 -0.06610367]\n",
      " [ 0.05034902  0.03549446  0.05447529  0.02394091  0.0515869   0.0392081\n",
      "   0.02641667  0.02105252  0.04498487  0.02435353  0.04333437  0.04828589\n",
      "   0.05818893  0.04704801  0.03425658  0.02971768  0.05530054  0.03095556\n",
      "   0.04746063  0.04250911  0.05736368  0.04704801  0.02765455  0.05901419]\n",
      " [-0.00363454  0.07387089 -0.02516382  0.13415289 -0.01009332  0.05449453\n",
      "   0.12123531  0.14922339  0.02435353  0.13199996  0.03296525  0.00713011\n",
      "  -0.04454018  0.01358889  0.08032967  0.10401189 -0.02946968  0.0975531\n",
      "   0.01143596  0.0372711  -0.04023432  0.01358889  0.11477653 -0.04884603]\n",
      " [ 0.04603034  0.03856457  0.04810416  0.03275787  0.04665248  0.04043101\n",
      "   0.03400216  0.03130619  0.04333437  0.03296525  0.04250484  0.04499343\n",
      "   0.0499706   0.04437128  0.03794242  0.03566122  0.04851893  0.03628337\n",
      "   0.04457866  0.04209007  0.04955584  0.04437128  0.03462431  0.05038537]\n",
      " [ 0.05898639  0.02935423  0.06721755  0.00630699  0.06145574  0.03676227\n",
      "   0.01124568  0.00054518  0.04828589  0.00713011  0.04499343  0.05487081\n",
      "   0.07462559  0.05240147  0.02688488  0.01783061  0.06886378  0.02029996\n",
      "   0.05322458  0.04334719  0.07297936  0.05240147  0.01371503  0.07627182]\n",
      " [ 0.0848985   0.01093354  0.10544432 -0.04659476  0.09106225  0.02942478\n",
      "  -0.03426727 -0.06097684  0.05818893 -0.04454018  0.0499706   0.07462559\n",
      "   0.12393556  0.06846184  0.00476979 -0.01783061  0.10955349 -0.01166686\n",
      "   0.07051642  0.04586144  0.1198264   0.06846184 -0.02810352  0.12804473]\n",
      " [ 0.05574738  0.03165681  0.0624392   0.01291971  0.05775493  0.03767946\n",
      "   0.0169348   0.00823543  0.04704801  0.01358889  0.04437128  0.05240147\n",
      "   0.06846184  0.05039392  0.02964927  0.02228826  0.06377757  0.02429581\n",
      "   0.0510631   0.04303291  0.06712348  0.05039392  0.01894235  0.06980021]\n",
      " [ 0.02227757  0.0554502   0.01306295  0.08125114  0.01951319  0.04715704\n",
      "   0.07572236  0.08770137  0.03425658  0.08032967  0.03794242  0.02688488\n",
      "   0.00476979  0.02964927  0.05821459  0.06835067  0.01122003  0.06558628\n",
      "   0.02872781  0.03978535  0.00661272  0.02964927  0.07295798  0.00292687]\n",
      " [ 0.01040119  0.06389302 -0.00445765  0.10549777  0.00594354  0.05052006\n",
      "   0.09658247  0.11589896  0.02971768  0.10401189  0.03566122  0.01783061\n",
      "  -0.01783061  0.02228826  0.06835067  0.08469539 -0.00742942  0.08023774\n",
      "   0.02080238  0.03863299 -0.01485884  0.02228826  0.09212481 -0.02080238]\n",
      " [ 0.0773408   0.01630624  0.09429485 -0.03116508  0.08242702  0.03156488\n",
      "  -0.02099266 -0.04303291  0.05530054 -0.02946968  0.04851893  0.06886378\n",
      "   0.10955349  0.06377757  0.01122003 -0.00742942  0.09768566 -0.00234321\n",
      "   0.06547297  0.04512812  0.10616268  0.06377757 -0.01590644  0.1129443 ]\n",
      " [ 0.0136402   0.06159043  0.00032069  0.09888505  0.00964435  0.04960287\n",
      "   0.09089335  0.10820871  0.03095556  0.0975531   0.03628337  0.02029996\n",
      "  -0.01166686  0.02429581  0.06558628  0.08023774 -0.00234321  0.07624189\n",
      "   0.02296386  0.03894727 -0.00900296  0.02429581  0.0868975  -0.01433076]\n",
      " [ 0.05682705  0.03088929  0.06403198  0.01071547  0.05898853  0.03737373\n",
      "   0.01503843  0.00567202  0.04746063  0.01143596  0.04457866  0.05322458\n",
      "   0.07051642  0.0510631   0.02872781  0.02080238  0.06547297  0.02296386\n",
      "   0.0517836   0.04313767  0.06907544  0.0510631   0.01719991  0.07195741]\n",
      " [ 0.043871    0.04009963  0.0449186   0.03716634  0.04418528  0.04104247\n",
      "   0.03779491  0.03643302  0.04250911  0.0372711   0.04209007  0.04334719\n",
      "   0.04586144  0.04303291  0.03978535  0.03863299  0.04512812  0.03894727\n",
      "   0.04313767  0.04188055  0.04565192  0.04303291  0.03810919  0.04607096]\n",
      " [ 0.08273916  0.0124686   0.10225876 -0.04218628  0.08859504  0.03003624\n",
      "  -0.03047452 -0.05585     0.05736368 -0.04023432  0.04955584  0.07297936\n",
      "   0.1198264   0.06712348  0.00661272 -0.01485884  0.10616268 -0.00900296\n",
      "   0.06907544  0.04565192  0.11592248  0.06712348 -0.02461864  0.12373032]\n",
      " [ 0.05574738  0.03165681  0.0624392   0.01291971  0.05775493  0.03767946\n",
      "   0.0169348   0.00823543  0.04704801  0.01358889  0.04437128  0.05240147\n",
      "   0.06846184  0.05039392  0.02964927  0.02228826  0.06377757  0.02429581\n",
      "   0.0510631   0.04303291  0.06712348  0.05039392  0.01894235  0.06980021]\n",
      " [ 0.00500283  0.06773066 -0.01242156  0.11651897 -0.00022449  0.0520487\n",
      "   0.10606433  0.12871605  0.02765455  0.11477653  0.03462431  0.01371503\n",
      "  -0.02810352  0.01894235  0.07295798  0.09212481 -0.01590644  0.0868975\n",
      "   0.01719991  0.03810919 -0.02461864  0.01894235  0.10083701 -0.0315884 ]\n",
      " [ 0.08705784  0.00939848  0.10862989 -0.05100324  0.09352946  0.02881332\n",
      "  -0.03806001 -0.06610367  0.05901419 -0.04884603  0.05038537  0.07627182\n",
      "   0.12804473  0.06980021  0.00292687 -0.02080238  0.1129443  -0.01433076\n",
      "   0.07195741  0.04607096  0.12373032  0.06980021 -0.0315884   0.13235913]]\n"
     ]
    }
   ],
   "source": [
    "Projection_matrix = x @ np.linalg.pinv(x.T @ x) @ x.T\n",
    "print(Projection_matrix)"
   ]
  },
  {
   "cell_type": "markdown",
   "id": "a91e1ab6-a933-4de2-8728-3524d9151cb3",
   "metadata": {},
   "source": [
    "##### Plotting Regression line\n",
    "###### Here, a regression line is plotted on a scatter plot to visualize the relationship between the independent and dependent variable."
   ]
  },
  {
   "cell_type": "code",
   "execution_count": 13,
   "id": "77ff11f4-1f14-4c40-a201-80a57d936572",
   "metadata": {},
   "outputs": [
    {
     "data": {
      "image/png": "[encoded data removed]",
      "text/plain": [
       "<Figure size 640x480 with 1 Axes>"
      ]
     },
     "metadata": {},
     "output_type": "display_data"
    }
   ],
   "source": [
    "sns.regplot(x='YearsExperience', y='Salary', data=Dataset);"
   ]
  },
  {
   "cell_type": "markdown",
   "id": "9d08d600-e4e1-41bc-8b01-4c7452dd1efa",
   "metadata": {},
   "source": [
    "##### Predicted Salary\n",
    "###### The model predicts salaries for the testing dataset using the trained regression model."
   ]
  },
  {
   "cell_type": "code",
   "execution_count": 14,
   "id": "3a6b889d-6663-4b64-98e8-7a212043b92b",
   "metadata": {},
   "outputs": [
    {
     "data": {
      "text/html": [
       "<div>\n",
       "<style scoped>\n",
       "    .dataframe tbody tr th:only-of-type {\n",
       "        vertical-align: middle;\n",
       "    }\n",
       "\n",
       "    .dataframe tbody tr th {\n",
       "        vertical-align: top;\n",
       "    }\n",
       "\n",
       "    .dataframe thead th {\n",
       "        text-align: right;\n",
       "    }\n",
       "</style>\n",
       "<table border=\"1\" class=\"dataframe\">\n",
       "  <thead>\n",
       "    <tr style=\"text-align: right;\">\n",
       "      <th></th>\n",
       "      <th>Salary (Predicted)</th>\n",
       "    </tr>\n",
       "  </thead>\n",
       "  <tbody>\n",
       "    <tr>\n",
       "      <th>0</th>\n",
       "      <td>81665.927949</td>\n",
       "    </tr>\n",
       "    <tr>\n",
       "      <th>1</th>\n",
       "      <td>52839.292482</td>\n",
       "    </tr>\n",
       "    <tr>\n",
       "      <th>2</th>\n",
       "      <td>63409.058820</td>\n",
       "    </tr>\n",
       "    <tr>\n",
       "      <th>3</th>\n",
       "      <td>124905.881149</td>\n",
       "    </tr>\n",
       "    <tr>\n",
       "      <th>4</th>\n",
       "      <td>74939.713006</td>\n",
       "    </tr>\n",
       "    <tr>\n",
       "      <th>5</th>\n",
       "      <td>54761.068180</td>\n",
       "    </tr>\n",
       "  </tbody>\n",
       "</table>\n",
       "</div>"
      ],
      "text/plain": [
       "   Salary (Predicted)\n",
       "0        81665.927949\n",
       "1        52839.292482\n",
       "2        63409.058820\n",
       "3       124905.881149\n",
       "4        74939.713006\n",
       "5        54761.068180"
      ]
     },
     "execution_count": 14,
     "metadata": {},
     "output_type": "execute_result"
    }
   ],
   "source": [
    "y_pred = X_test.values @ beta_cap\n",
    "pred_Salary = pd.DataFrame({\"Salary (Predicted)\":y_pred}) \n",
    "pred_Salary"
   ]
  },
  {
   "cell_type": "markdown",
   "id": "ce35b287-e1ad-41e7-a173-120768ca5e0a",
   "metadata": {},
   "source": [
    "##### Comparing Actual and Predicted Salary\n",
    "###### This section creates a DataFrame comparing the actual salaries with the predicted salaries for the testing dataset."
   ]
  },
  {
   "cell_type": "code",
   "execution_count": 15,
   "id": "383af89c-c6e2-4cb3-a957-92d1b2e1b0d0",
   "metadata": {},
   "outputs": [
    {
     "data": {
      "text/html": [
       "<div>\n",
       "<style scoped>\n",
       "    .dataframe tbody tr th:only-of-type {\n",
       "        vertical-align: middle;\n",
       "    }\n",
       "\n",
       "    .dataframe tbody tr th {\n",
       "        vertical-align: top;\n",
       "    }\n",
       "\n",
       "    .dataframe thead th {\n",
       "        text-align: right;\n",
       "    }\n",
       "</style>\n",
       "<table border=\"1\" class=\"dataframe\">\n",
       "  <thead>\n",
       "    <tr style=\"text-align: right;\">\n",
       "      <th></th>\n",
       "      <th>Actual</th>\n",
       "      <th>Predicted</th>\n",
       "    </tr>\n",
       "  </thead>\n",
       "  <tbody>\n",
       "    <tr>\n",
       "      <th>19</th>\n",
       "      <td>93940.0</td>\n",
       "      <td>81666</td>\n",
       "    </tr>\n",
       "    <tr>\n",
       "      <th>6</th>\n",
       "      <td>60150.0</td>\n",
       "      <td>52839</td>\n",
       "    </tr>\n",
       "    <tr>\n",
       "      <th>13</th>\n",
       "      <td>57081.0</td>\n",
       "      <td>63409</td>\n",
       "    </tr>\n",
       "    <tr>\n",
       "      <th>29</th>\n",
       "      <td>121872.0</td>\n",
       "      <td>124906</td>\n",
       "    </tr>\n",
       "    <tr>\n",
       "      <th>17</th>\n",
       "      <td>83088.0</td>\n",
       "      <td>74940</td>\n",
       "    </tr>\n",
       "    <tr>\n",
       "      <th>8</th>\n",
       "      <td>64445.0</td>\n",
       "      <td>54761</td>\n",
       "    </tr>\n",
       "  </tbody>\n",
       "</table>\n",
       "</div>"
      ],
      "text/plain": [
       "      Actual  Predicted\n",
       "19   93940.0      81666\n",
       "6    60150.0      52839\n",
       "13   57081.0      63409\n",
       "29  121872.0     124906\n",
       "17   83088.0      74940\n",
       "8    64445.0      54761"
      ]
     },
     "execution_count": 15,
     "metadata": {},
     "output_type": "execute_result"
    }
   ],
   "source": [
    "dfcompare = pd.DataFrame({'Actual': y_test, 'Predicted': y_pred})\n",
    "dfcompare['Predicted']=dfcompare['Predicted'].round().astype('int64')\n",
    "dfcompare"
   ]
  },
  {
   "cell_type": "markdown",
   "id": "bfbc61d9-f312-46e0-b597-7d74808c6e3c",
   "metadata": {},
   "source": [
    "##### MSE & R squared\n",
    "###### Mean Squared Error (MSE) and R-squared (R^2) are calculated to evaluate the performance of the regression model."
   ]
  },
  {
   "cell_type": "code",
   "execution_count": 16,
   "id": "9176a528-f517-413e-a3ad-e86ca3c0aaad",
   "metadata": {},
   "outputs": [
    {
     "data": {
      "text/plain": [
       "413520297.0"
      ]
     },
     "execution_count": 16,
     "metadata": {},
     "output_type": "execute_result"
    }
   ],
   "source": [
    "RSS = ((dfcompare['Actual'] - dfcompare['Predicted']) ** 2).sum()\n",
    "RSS"
   ]
  },
  {
   "cell_type": "code",
   "execution_count": 17,
   "id": "4dbb9973-cf62-4c11-b8a6-a70d76142f20",
   "metadata": {},
   "outputs": [
    {
     "data": {
      "text/plain": [
       "3118329518.0"
      ]
     },
     "execution_count": 17,
     "metadata": {},
     "output_type": "execute_result"
    }
   ],
   "source": [
    "TSS = ((dfcompare['Actual'] - dfcompare['Actual'].mean()) ** 2).sum()\n",
    "TSS"
   ]
  },
  {
   "cell_type": "code",
   "execution_count": 18,
   "id": "337b08ba-8724-44fa-945f-04bb6c9b2ee9",
   "metadata": {},
   "outputs": [
    {
     "data": {
      "text/plain": [
       "68920049.5"
      ]
     },
     "execution_count": 18,
     "metadata": {},
     "output_type": "execute_result"
    }
   ],
   "source": [
    "MSE = RSS/len(y_pred)\n",
    "MSE"
   ]
  },
  {
   "cell_type": "code",
   "execution_count": 19,
   "id": "1bda44eb-c0ad-4e96-aa0e-f3db354400fe",
   "metadata": {},
   "outputs": [
    {
     "data": {
      "text/plain": [
       "0.8673904426671306"
      ]
     },
     "execution_count": 19,
     "metadata": {},
     "output_type": "execute_result"
    }
   ],
   "source": [
    "r_squared = 1 - (RSS / TSS)\n",
    "r_squared"
   ]
  },
  {
   "cell_type": "markdown",
   "id": "4e6ac317-5194-4712-98ab-d05cc0cf4196",
   "metadata": {},
   "source": [
    "##### Calculating Salary using User Input Data from the Fitted Model\n",
    "###### Finally, the code prompts the user to input years of experience, and it predicts the salary using the trained model based on the user input. This allows for the application of the model to new, unseen data."
   ]
  },
  {
   "cell_type": "code",
   "execution_count": 20,
   "id": "dd5566aa-096c-4696-8725-bdfabf63effc",
   "metadata": {},
   "outputs": [
    {
     "name": "stdin",
     "output_type": "stream",
     "text": [
      "Years of Experience =  9\n"
     ]
    },
    {
     "name": "stdout",
     "output_type": "stream",
     "text": [
      "Salary_emt_Estimated=110492.5634151817\n"
     ]
    }
   ],
   "source": [
    "const = 1\n",
    "Years_of_Experience = int(input(\"Years of Experience = \"))\n",
    "\n",
    "casual = np.array([[const, Years_of_Experience]])\n",
    "Salary_emt = beta_cap @ casual.T\n",
    "print(\"Salary_emt_Estimated={}\".format(Salary_emt[0]))"
   ]
  }
 ],
 "metadata": {
  "kernelspec": {
   "display_name": "Python 3 (ipykernel)",
   "language": "python",
   "name": "python3"
  },
  "language_info": {
   "codemirror_mode": {
    "name": "ipython",
    "version": 3
   },
   "file_extension": ".py",
   "mimetype": "text/x-python",
   "name": "python",
   "nbconvert_exporter": "python",
   "pygments_lexer": "ipython3",
   "version": "3.12.2"
  }
 },
 "nbformat": 4,
 "nbformat_minor": 5
}
